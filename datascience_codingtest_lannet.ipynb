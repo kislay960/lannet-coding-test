{
  "nbformat": 4,
  "nbformat_minor": 0,
  "metadata": {
    "colab": {
      "name": "datascience-codingtest-lannet.ipynb",
      "provenance": [],
      "collapsed_sections": [],
      "authorship_tag": "ABX9TyMw0KyyeS/u+See9f5J4H9r",
      "include_colab_link": true
    },
    "kernelspec": {
      "name": "python3",
      "display_name": "Python 3"
    }
  },
  "cells": [
    {
      "cell_type": "markdown",
      "metadata": {
        "id": "view-in-github",
        "colab_type": "text"
      },
      "source": [
        "<a href=\"https://colab.research.google.com/github/kislay960/lannet-coding-test/blob/master/datascience_codingtest_lannet.ipynb\" target=\"_parent\"><img src=\"https://colab.research.google.com/assets/colab-badge.svg\" alt=\"Open In Colab\"/></a>"
      ]
    },
    {
      "cell_type": "code",
      "metadata": {
        "id": "8ScpUDt99Fog",
        "colab_type": "code",
        "colab": {
          "base_uri": "https://localhost:8080/",
          "height": 170
        },
        "outputId": "d1ece3dc-855b-43ed-f367-b12600dd5b77"
      },
      "source": [
        "#Question 1 of the coding test\n",
        "def question1():\n",
        "  #importig libraries\n",
        "  import pandas as pd\n",
        "  import numpy as np\n",
        "\n",
        "  #creating and printing our dummy dataframe with multiple date columns in different formats\n",
        "  data=pd.DataFrame({'col1':['15.01.2020','02.08.2020','29.09.2020'],'col2':['2020-01-20','2020-12-17', '2020-09-06'],'col3':[1,2,4],'col4':['16/01/2020','22/08/2020','23/09/2020']})\n",
        "  print(data)\n",
        "\n",
        "  #converting our data to csv file\n",
        "  data.to_csv('test.csv')\n",
        "\n",
        "  #loop to check columns and remove invalid entries\n",
        "  for col in data.columns:\n",
        "    if data[col].dtype=='object':\n",
        "      try:\n",
        "        #Checking and removing invalid entries from date columns\n",
        "        data[col]=pd.to_datetime(data[col],errors='coerce') \n",
        "      except:\n",
        "        pass\n",
        "\n",
        "  #Removing columns which does not have date datatype\n",
        "  data=data.select_dtypes(include=[np.datetime64])\n",
        "\n",
        "  #printing number of columns to find out number of new columns to be added in the dataframe\n",
        "  print(len(data))\n",
        "\n",
        "  #adding new columns manually as loops will overwrite the column name and we can't use string formatting here.\n",
        "  data=data.assign(date1date2=lambda x:(abs(data[data.columns[0]]-data[data.columns[1]])))\n",
        "  data=data.assign(date2date3=lambda x:(abs(data[data.columns[1]]-data[data.columns[2]])))\n",
        "  data=data.assign(date3date1=lambda x:(abs(data[data.columns[2]]-data[data.columns[0]])))\n",
        "\n",
        "  #printing our dataframe\n",
        "  print(data)\n",
        "\n",
        "\n",
        "#calling our function\n",
        "question1()"
      ],
      "execution_count": null,
      "outputs": [
        {
          "output_type": "stream",
          "text": [
            "         col1        col2  col3        col4\n",
            "0  15.01.2020  2020-01-20     1  16/01/2020\n",
            "1  02.08.2020  2020-12-17     2  22/08/2020\n",
            "2  29.09.2020  2020-09-06     4  23/09/2020\n",
            "3\n",
            "        col1       col2       col4 date1date2 date2date3 date3date1\n",
            "0 2020-01-15 2020-01-20 2020-01-16     5 days     4 days     1 days\n",
            "1 2020-02-08 2020-12-17 2020-08-22   313 days   117 days   196 days\n",
            "2 2020-09-29 2020-09-06 2020-09-23    23 days    17 days     6 days\n"
          ],
          "name": "stdout"
        }
      ]
    },
    {
      "cell_type": "code",
      "metadata": {
        "id": "4hGgrbLw_MhG",
        "colab_type": "code",
        "colab": {
          "base_uri": "https://localhost:8080/",
          "height": 221
        },
        "outputId": "f988cd76-6021-4cd8-9a1d-1c332bf4b29f"
      },
      "source": [
        "#Question 2\n",
        "\n",
        "#NOTE: We can use many methods to remove outliers, this one will consume much less time and memory, hence we are using this method.\n",
        "\n",
        "def question2():\n",
        "  #importing libraries\n",
        "  import numpy as np\n",
        "  import pandas as pd\n",
        "\n",
        "  #creating and printing dummy dataframe\n",
        "  data=pd.DataFrame({1:[5,24,25,23,28],2:[17,0,19,16,15],3:[20,21,22,24,23],4:[44,50,55,1000,57],5:[39,0,1000,40,41]})\n",
        "  print(data)\n",
        "\n",
        "  #considering values between 0.25 and 0.75 quantile\n",
        "  Q1 = data.quantile(0.25)\n",
        "  Q3 = data.quantile(0.75)\n",
        "  IQR = Q3 - Q1\n",
        "\n",
        "  #Removing the outlier data\n",
        "  data = data[~((data < (Q1 - 1.5 * IQR)) |(data > (Q3 + 1.5 * IQR)))]\n",
        "\n",
        "  #We removed outliers from our dataset. If you want to replace NaN values with mean values, follow this code\n",
        "  data=data.fillna(data.mean())\n",
        "\n",
        "  #printing our new dataset\n",
        "  print(data)\n",
        "\n",
        "\n",
        "#Calling our function\n",
        "question2()"
      ],
      "execution_count": null,
      "outputs": [
        {
          "output_type": "stream",
          "text": [
            "    1   2   3     4     5\n",
            "0   5  17  20    44    39\n",
            "1  24   0  21    50     0\n",
            "2  25  19  22    55  1000\n",
            "3  23  16  24  1000    40\n",
            "4  28  15  23    57    41\n",
            "      1      2   3     4     5\n",
            "0  25.0  17.00  20  44.0  39.0\n",
            "1  24.0  16.75  21  50.0  40.0\n",
            "2  25.0  19.00  22  55.0  40.0\n",
            "3  23.0  16.00  24  51.5  40.0\n",
            "4  28.0  15.00  23  57.0  41.0\n"
          ],
          "name": "stdout"
        }
      ]
    },
    {
      "cell_type": "code",
      "metadata": {
        "id": "FOxjVDTBdj_u",
        "colab_type": "code",
        "colab": {
          "base_uri": "https://localhost:8080/",
          "height": 221
        },
        "outputId": "c9f7bf4d-c4bd-4912-c106-b24d8504baf4"
      },
      "source": [
        "#Question 3\n",
        "def question3():\n",
        "  #importing libraries\n",
        "  import pandas as pd\n",
        "\n",
        "  #creating and printing our dummy dataframe\n",
        "  data=pd.DataFrame({'col1':[1,1,2,3,2],'col2':[2,3,1,4,0],'col3':['a','b','c','d','e'],'col4':[44,50,55,1000,57],'col5':[39,0,1000,40,41]})\n",
        "  print(data)\n",
        "\n",
        "  #Removing volumns except of type integer and float\n",
        "  data=data.select_dtypes(include = ['int64','float64'])\n",
        "\n",
        "  #Checking for continous data\n",
        "  for col in data.columns:\n",
        "    col_len = len(data[col].unique())\n",
        "    #We are considering column length 4 as our dataframe has column length 5. Change it as the size of dataframe changes.\n",
        "    if col_len<4:\n",
        "      del data[col]\n",
        "\n",
        "  #Finding pearso correlation between continous data\n",
        "  corr = data.corr(method='pearson')\n",
        "\n",
        "  #Check for pearson correlation>0.85 and delete columns with values<0.85\n",
        "  for col in corr.columns:\n",
        "    if len(corr[col][corr[col]>0.85])>1:\n",
        "      del data[col]\n",
        "\n",
        "  #printing our final dataset\n",
        "  print(data)\n",
        "\n",
        "\n",
        "#Calling out function\n",
        "question3()"
      ],
      "execution_count": null,
      "outputs": [
        {
          "output_type": "stream",
          "text": [
            "   col1  col2 col3  col4  col5\n",
            "0     1     2    a    44    39\n",
            "1     1     3    b    50     0\n",
            "2     2     1    c    55  1000\n",
            "3     3     4    d  1000    40\n",
            "4     2     0    e    57    41\n",
            "   col2  col4  col5\n",
            "0     2    44    39\n",
            "1     3    50     0\n",
            "2     1    55  1000\n",
            "3     4  1000    40\n",
            "4     0    57    41\n"
          ],
          "name": "stdout"
        }
      ]
    },
    {
      "cell_type": "code",
      "metadata": {
        "id": "pLxWqj93p9_X",
        "colab_type": "code",
        "colab": {}
      },
      "source": [
        ""
      ],
      "execution_count": null,
      "outputs": []
    }
  ]
}